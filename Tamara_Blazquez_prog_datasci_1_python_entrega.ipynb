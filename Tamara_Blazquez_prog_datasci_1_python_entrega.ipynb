{
 "cells": [
  {
   "cell_type": "markdown",
   "metadata": {},
   "source": [
    "Programación para *Data Science*\n",
    "============================\n",
    "\n",
    "Breve introducción a la programación en Python\n",
    "-----------------------------------------------------\n",
    "\n",
    "En este Notebook encontraréis conjuntos de ejercicios a prácticar con los fundamentos de Python. Hay que entregarlo en la forma\n",
    "*nombre_apellidos_datasci1_python_entrega_fecha* en vuestro repositorio GitHub y subirlo."
   ]
  },
  {
   "cell_type": "markdown",
   "metadata": {},
   "source": [
    "## Prácticamos\n",
    "\n",
    "Los tres primeros ejercios son para prácticar un poco. Tenemos la solución abajo, pero intenta esforzarte! Si necesita ayuda tienes los recursos disponible en tu carpeta RECURSOS de Python."
   ]
  },
  {
   "cell_type": "markdown",
   "metadata": {},
   "source": [
    "### Ejercicio 1 \n",
    "\n",
    "Escribid una expresión en Python que muestre la siguiente salida por pantalla:"
   ]
  },
  {
   "cell_type": "markdown",
   "metadata": {},
   "source": [
    "print( \"\"\"Hello\n",
    "\n",
    "    Python\"\"\")"
   ]
  },
  {
   "cell_type": "markdown",
   "metadata": {},
   "source": [
    "(fijaros que hay un salto de línea entre las dos palabras y que la palabra \"Python\" está tabulada hacía la derecha)"
   ]
  },
  {
   "cell_type": "markdown",
   "metadata": {},
   "source": [
    "Hello\n",
    "\n",
    "    Phyton\n"
   ]
  },
  {
   "cell_type": "markdown",
   "metadata": {},
   "source": [
    "### Ejercicio 2\n",
    "\n",
    "Escribid un programa que defina una lista, los valores de la cual sean los nombres de los días de la semana. Haced que muestre el primero y el penúltimo día de la semana."
   ]
  },
  {
   "cell_type": "code",
   "execution_count": 29,
   "metadata": {},
   "outputs": [
    {
     "name": "stdout",
     "output_type": "stream",
     "text": [
      "lunes sabado\n"
     ]
    }
   ],
   "source": [
    "# Respuest\n",
    "weekday = [\"lunes\",\"martes\",\"miercoles\",\"jueves\",\"viernes\",\"sabado\",\"domingo\"]\n",
    "print(weekday[0],weekday[-2])"
   ]
  },
  {
   "cell_type": "markdown",
   "metadata": {},
   "source": [
    "### Ejercicio 3\n",
    "\n",
    "Python dispone de un _idiom_ muy útil conocido como _list comprehensions_. Buscad documentación sobre este _idiom_ y proporcionad una expresión que devuelva una lista de los cuadrados de los 10 primeros números naturales."
   ]
  },
  {
   "cell_type": "code",
   "execution_count": 53,
   "metadata": {},
   "outputs": [
    {
     "name": "stdout",
     "output_type": "stream",
     "text": [
      "[0, 1, 4, 9, 16, 25, 36, 49, 64, 81]\n"
     ]
    }
   ],
   "source": [
    "# Respuesta\n",
    "numeros= range(10)\n",
    "list(numeros)\n",
    "\n",
    "squares = [n**2 for n in numeros]\n",
    "print(squares)\n"
   ]
  },
  {
   "cell_type": "markdown",
   "metadata": {},
   "source": [
    "---\n",
    "\n",
    "## Ejercicios y preguntas teóricas para la práctica 1\n",
    "\n",
    "A continuación encontraréis los **ejercicios y preguntas teóricas que debéis completar en esta práctica** y que forman parte de la evaluación de esta unidad.\n",
    "\n",
    "Podéis encontrar en la documentación oficial de *string* funciones que os pueden ser de ayuda para completar los ejercicios:\n",
    "<https://docs.python.org/2/library/string.html>."
   ]
  },
  {
   "cell_type": "markdown",
   "metadata": {},
   "source": [
    "### Pregunta 1\n",
    "\n",
    "¿Cuál es el valor final de a, b y c (atención a los tipos de número decimal y entero)? **(1 punt)**\n",
    "\n",
    "a = 5 * 11\n",
    "\n",
    "b = a / 2.\n",
    "\n",
    "c, a = b * 2, b + 1"
   ]
  },
  {
   "cell_type": "markdown",
   "metadata": {},
   "source": [
    "**Respuesta**"
   ]
  },
  {
   "cell_type": "markdown",
   "metadata": {},
   "source": [
    "#Respuesta\n",
    "#a= b+1 =28.5 \n",
    "#b=(5*11)/2=27.5\n",
    "#c=b*2= 55"
   ]
  },
  {
   "cell_type": "markdown",
   "metadata": {},
   "source": []
  },
  {
   "cell_type": "markdown",
   "metadata": {},
   "source": [
    "### Pregunta 2\n",
    "\n",
    "Exlicad brevemente que es la _Python Standard Library_ y mencionad tres ejemplos de paquetes incluidos en esta librería, añadiendo una breve explicación de cada uno de ellos. **(1 punt)**\n",
    "\n",
    "**Respuesta:**"
   ]
  },
  {
   "cell_type": "markdown",
   "metadata": {},
   "source": [
    " son paquetes de archivos que facilitan la programación. se les llama al principio del programa (import.libreria)\n",
    "ej: \n",
    "math: permite realizar operaciones matemáticas: seno, coseno, pi....\n",
    "statistics: calcula estadísticos básicos (media, moda,mediana, varianza, etc) de datos númericos\n",
    "date: para realizar operaciones con fechas\n"
   ]
  },
  {
   "cell_type": "markdown",
   "metadata": {},
   "source": [
    "### Ejercicio 1\n",
    "\n",
    "Proporcionad una expresión que asigne el valor `5` a la variable `a_number`, el valor `42.42` a la variable `another_number` i el valor \"`datascience`\" a la variable `a_string`. Debéis proporcionar una única expresión que realice las tres asignaciones. **(1 punt)**"
   ]
  },
  {
   "cell_type": "code",
   "execution_count": 61,
   "metadata": {},
   "outputs": [
    {
     "name": "stdout",
     "output_type": "stream",
     "text": [
      "5 42.42 datascience\n"
     ]
    }
   ],
   "source": [
    "\n",
    "\n",
    "a_number,another_number,a_string=5,42.42,\"datascience\"\n",
    "print(a_number,another_number,a_string)\n"
   ]
  },
  {
   "cell_type": "markdown",
   "metadata": {},
   "source": [
    "### Ejercicio 2\n",
    "\n",
    "¿Qué expresión en Python necesitamos para conseguir el _string_ \"onPythonPythonPythonPyPy\" utilizando sólo la palabra \"Python\"? **(1 punt)**"
   ]
  },
  {
   "cell_type": "code",
   "execution_count": 101,
   "metadata": {
    "attributes": {
     "classes": [
      "sourceCode"
     ],
     "id": ""
    }
   },
   "outputs": [
    {
     "name": "stdout",
     "output_type": "stream",
     "text": [
      "onPythonPythonPythonPyPy\n"
     ]
    }
   ],
   "source": [
    "# Respuesta 1\n",
    "c= \"Python\"\n",
    "print (c[-2],c[-1],c,c,c,c[0:2],c[0:2],sep=\"\")\n"
   ]
  },
  {
   "cell_type": "code",
   "execution_count": 31,
   "metadata": {},
   "outputs": [
    {
     "ename": "SyntaxError",
     "evalue": "invalid syntax (<ipython-input-31-2976c5da26b6>, line 6)",
     "output_type": "error",
     "traceback": [
      "\u001b[1;36m  File \u001b[1;32m\"<ipython-input-31-2976c5da26b6>\"\u001b[1;36m, line \u001b[1;32m6\u001b[0m\n\u001b[1;33m    def str (x-2)\u001b[0m\n\u001b[1;37m              ^\u001b[0m\n\u001b[1;31mSyntaxError\u001b[0m\u001b[1;31m:\u001b[0m invalid syntax\n"
     ]
    }
   ],
   "source": [
    "# Respuesta 2 - Opcional\n",
    "# En este caso puedo crear una función y devolver el resultado\n"
   ]
  },
  {
   "cell_type": "code",
   "execution_count": 12,
   "metadata": {},
   "outputs": [],
   "source": [
    "x = \"Python\""
   ]
  },
  {
   "cell_type": "markdown",
   "metadata": {},
   "source": [
    "### Ejercicio 3\n",
    "\n",
    "Escribid un programa que asigne dos valores enteros cualquiera (escoged vosotros un número entero aleatorio) a dos variables con nombres `a` y `b`. Utilizad las variables definidas anteriormente para evaluar la siguiente expresión matemática:\n",
    "\n",
    "( a<sup>2</sup> + b<sup>2</sup> ) <sup>2</sup>\n",
    "\n",
    "**(1 punt)**"
   ]
  },
  {
   "cell_type": "code",
   "execution_count": 32,
   "metadata": {
    "attributes": {
     "classes": [
      "sourceCode"
     ],
     "id": ""
    }
   },
   "outputs": [
    {
     "data": {
      "text/plain": [
       "3721"
      ]
     },
     "execution_count": 32,
     "metadata": {},
     "output_type": "execute_result"
    }
   ],
   "source": [
    "# Respuesta 1\n",
    "a,b=5,6\n",
    "((a**2)+(b**2))**2\n",
    "\n",
    "\n",
    "    "
   ]
  },
  {
   "cell_type": "code",
   "execution_count": 7,
   "metadata": {},
   "outputs": [
    {
     "ename": "NameError",
     "evalue": "name 'cuadrados' is not defined",
     "output_type": "error",
     "traceback": [
      "\u001b[0;31m---------------------------------------------------------------------------\u001b[0m",
      "\u001b[0;31mNameError\u001b[0m                                 Traceback (most recent call last)",
      "\u001b[0;32m<ipython-input-7-7ff8f591e179>\u001b[0m in \u001b[0;36m<module>\u001b[0;34m\u001b[0m\n\u001b[0;32m----> 1\u001b[0;31m \u001b[0mcuadrados\u001b[0m\u001b[0;34m(\u001b[0m\u001b[0;36m2\u001b[0m\u001b[0;34m,\u001b[0m\u001b[0;36m1\u001b[0m\u001b[0;34m)\u001b[0m\u001b[0;34m\u001b[0m\u001b[0;34m\u001b[0m\u001b[0m\n\u001b[0m",
      "\u001b[0;31mNameError\u001b[0m: name 'cuadrados' is not defined"
     ]
    }
   ],
   "source": []
  },
  {
   "cell_type": "markdown",
   "metadata": {},
   "source": [
    "### Ejercicio 4\n",
    "\n",
    "Escribid un programa que calcule el volumen de una esfera de radio `5`. **(1 punt)**"
   ]
  },
  {
   "cell_type": "code",
   "execution_count": 50,
   "metadata": {
    "attributes": {
     "classes": [
      "sourceCode"
     ],
     "id": ""
    }
   },
   "outputs": [
    {
     "data": {
      "text/plain": [
       "523.5987755982989"
      ]
     },
     "execution_count": 50,
     "metadata": {},
     "output_type": "execute_result"
    }
   ],
   "source": [
    "# Respuesta\n",
    "\n",
    "import math\n",
    "r=5\n",
    "(4/3*(r**3))*math.pi\n"
   ]
  },
  {
   "cell_type": "markdown",
   "metadata": {},
   "source": [
    "### Ejercicio 5\n",
    "\n",
    "Escribid un programa que defina una lista con el nombre de todos los meses del año. Haced que muestre los meses que corresponden al otoño. **(1 punt)**"
   ]
  },
  {
   "cell_type": "code",
   "execution_count": 52,
   "metadata": {
    "attributes": {
     "classes": [
      "sourceCode"
     ],
     "id": ""
    }
   },
   "outputs": [
    {
     "name": "stdout",
     "output_type": "stream",
     "text": [
      "['septiembre', 'octubre', 'noviembre']\n"
     ]
    }
   ],
   "source": [
    "# Respuesta\n",
    "meses=[\"enero\",\"febrero\",\"marzo\",\"abril\",\"mayo\",\"junio\",\"julio\",\"agosto\",\"septiembre\",\"octubre\",\"noviembre\",\"diciembre\"]\n",
    "print(meses[8:11])"
   ]
  },
  {
   "cell_type": "markdown",
   "metadata": {},
   "source": [
    "### Ejercicio 6\n",
    "\n",
    "Escribid un programa en el cual se defina una agenda telefónica utilizando un _diccionario_. Por ejemplo: Homer Simpson con número de teléfono 1234, Bart Simpson con número de teléfono 5678, etc. Tanto los nombres como los números de teléfono pueden ser completamente ficticios. Mostrad también el número de teléfono correspondiente a cualquiera de las personas definidas en el diccionario utilizando alguno de los métodos de acceso a elementos de un diccionario. **(1 punt)**"
   ]
  },
  {
   "cell_type": "code",
   "execution_count": 62,
   "metadata": {},
   "outputs": [
    {
     "name": "stdout",
     "output_type": "stream",
     "text": [
      "leo\n",
      "3456\n"
     ]
    }
   ],
   "source": [
    "# Respuesta\n",
    "agenda = {'nombre': ['tamara','amaia','leo','hugo'],'tfno': [1234,2345,3456,4567] }\n",
    "\n",
    "print( agenda ['nombre'][2])\n",
    "\n",
    "print( agenda ['tfno'][2])"
   ]
  },
  {
   "cell_type": "markdown",
   "metadata": {},
   "source": [
    "### Ejercicio 7\n",
    "\n",
    "Escribid un programa que muestre por pantalla una cadena de carácteres con el siguiente formato:\n",
    "\n",
    "```\n",
    "El mes de {nombre_mes} tiene {num_dias} días.\n",
    "```\n",
    "\n",
    "donde los valores de `{nombre_mes}` y `{num_dias}` estaran definidas en dos variables. Por ejemplo: _El mes de **febrero** tiene **28** días._ **(1 punt)**"
   ]
  },
  {
   "cell_type": "code",
   "execution_count": 6,
   "metadata": {},
   "outputs": [
    {
     "name": "stdout",
     "output_type": "stream",
     "text": [
      "El mes de febrero tiene 28 días\n"
     ]
    }
   ],
   "source": [
    "nombre_mes=[\"enero\",\"febrero\",\"marzo\",\"abril\",\"mayo\",\"junio\",\"julio\",\"agosto\",\"septiembre\",\"octubre\",\"noviembre\",\"diciembre\"]\n",
    "num_dias=[28,30,31]\n",
    "\n",
    "print(\"El mes de\",nombre_mes[1],\"tiene\",num_dias[0],\"días\")\n"
   ]
  },
  {
   "cell_type": "markdown",
   "metadata": {},
   "source": [
    "### Ejercicio 8\n",
    "\n",
    "Utilizando el _idiom_ de _list comprehensions_, proporcionad una expresión que devuelva: **(1 punt)**"
   ]
  },
  {
   "cell_type": "markdown",
   "metadata": {},
   "source": [
    "**a)** Una lista de los cuadrados de los números naturales entre 7 y 21:"
   ]
  },
  {
   "cell_type": "code",
   "execution_count": 43,
   "metadata": {},
   "outputs": [
    {
     "name": "stdout",
     "output_type": "stream",
     "text": [
      "[49, 64, 81, 100, 121, 144, 169, 196, 225, 256, 289, 324, 361, 400, 441]\n"
     ]
    }
   ],
   "source": [
    "x=list(range(7, 22))\n",
    "cuadrado= [e**2 for e in x]\n",
    "print (cuadrado)"
   ]
  },
  {
   "cell_type": "markdown",
   "metadata": {},
   "source": [
    "**b)** Una lista de los cuadrados de los números naturales **impares** entre 7 y 21:"
   ]
  },
  {
   "cell_type": "code",
   "execution_count": 76,
   "metadata": {},
   "outputs": [
    {
     "name": "stdout",
     "output_type": "stream",
     "text": [
      "[49, 81, 121, 169, 225, 289, 361, 441]\n"
     ]
    }
   ],
   "source": [
    "x=list(range(7, 22,2))\n",
    "cuadrados= [e**2 for e in x if e+1]\n",
    "print (cuadrados)"
   ]
  },
  {
   "cell_type": "markdown",
   "metadata": {},
   "source": [
    "**c)** Una lista de las **vocales** que aparecen en la cadena `s`, manteniendo el orden en el que aparecen:"
   ]
  },
  {
   "cell_type": "code",
   "execution_count": 103,
   "metadata": {},
   "outputs": [
    {
     "name": "stdout",
     "output_type": "stream",
     "text": [
      "['e', 'o', 'o', 'e', 'o', 'o']\n"
     ]
    }
   ],
   "source": [
    "s = \"Hello Python, hello world!\"\n",
    "vocal=\"a\",\"e\",\"i\",\"o\",\"u\"\n",
    "vocales=[e for e in s if e in vocal]\n",
    "\n",
    "print(vocales)\n"
   ]
  },
  {
   "cell_type": "markdown",
   "metadata": {},
   "source": [
    "### Ejercicio Opcional\n",
    "\n",
    "Escribid un programa que genere una lista de números aleatorios y calcule el producto de todos los números de la lista. Los números de la lista deben cumplir la siguiente condición: deben ser números impares entre 0 y 100. Además, el programa deberá preguntar al usuario cuantos elementos debe contener la lista (el usuario introducirá el número de elementos utilizando el teclado) y mostrar un mensaje de error si el usuario pide generar una lista de más de 50 elementos. Haced que el programa muestre la lista generada y el producto de sus elementos."
   ]
  },
  {
   "cell_type": "code",
   "execution_count": 9,
   "metadata": {},
   "outputs": [],
   "source": [
    "# Respuesta"
   ]
  },
  {
   "cell_type": "markdown",
   "metadata": {},
   "source": [
    "---\n",
    "\n",
    "## Soluciones ejercicios para practicar"
   ]
  },
  {
   "cell_type": "markdown",
   "metadata": {},
   "source": [
    "### Ejercicio 1 \n",
    "\n",
    "Hay diferentes maneras de conseguir el mismo resultado y a continuación vamos a ver algunas de ellas.\n",
    "\n",
    "La primera opción, y quizás la más simple, sería usando las triples comillas dobles (\"\"\" \"\"\"). En Python, las triples comillas dobles se interpretan literalmente y cualquier carácter que incluya nuestra cadena será renderizado tal y como aparece en la cadena. Esto nos puede resultar útil si por ejemplo nuestra cadena incluye comillas simples y comillas dobles. Vamos a ver el código:"
   ]
  },
  {
   "cell_type": "code",
   "execution_count": 1,
   "metadata": {},
   "outputs": [
    {
     "name": "stdout",
     "output_type": "stream",
     "text": [
      "Hello\n",
      "\n",
      "    Python\n"
     ]
    }
   ],
   "source": [
    "print \"\"\"Hello\n",
    "\n",
    "    Python\"\"\""
   ]
  },
  {
   "cell_type": "markdown",
   "metadata": {},
   "source": [
    "La segunda opción incluye el uso de carácteres especiales tal como \"\\n\" y \"\\t\". El primero produce un salto de línea en la salida por pantalla, mientras que el segundo produce un tabulado (TAB). Por lo tanto, nuestro código sería:"
   ]
  },
  {
   "cell_type": "code",
   "execution_count": 2,
   "metadata": {},
   "outputs": [
    {
     "name": "stdout",
     "output_type": "stream",
     "text": [
      "Hello\n",
      "\n",
      "\tPython\n"
     ]
    }
   ],
   "source": [
    "print \"Hello\\n\\n\\tPython\""
   ]
  },
  {
   "cell_type": "markdown",
   "metadata": {},
   "source": [
    "En este caso podemos ver que la indentación de la palabra \"Python\" es superior que en el caso anterior. Esto es debido a que, por defecto, el carácter \\t produce 8 espacios en blanco para \"simular\" la tabulación.\n",
    "\n",
    "Alternativamente, podemos hacer lo siguiente (poner nosotros mismos los espacios en blanco al principio de la línea):"
   ]
  },
  {
   "cell_type": "code",
   "execution_count": 3,
   "metadata": {},
   "outputs": [
    {
     "name": "stdout",
     "output_type": "stream",
     "text": [
      "Hello\n",
      "\n",
      "    Python\n"
     ]
    }
   ],
   "source": [
    "print \"Hello\\n\\n    Python\""
   ]
  },
  {
   "cell_type": "markdown",
   "metadata": {},
   "source": [
    "### Ejercicio 2\n",
    "\n",
    "La forma más fácil de definir un array en Python es utilizando [ ]:"
   ]
  },
  {
   "cell_type": "code",
   "execution_count": 110,
   "metadata": {},
   "outputs": [],
   "source": [
    "dias = ['Lunes', 'Martes', 'Miércoles', 'Jueves', 'Viernes', 'Sábado', 'Domingo']"
   ]
  },
  {
   "cell_type": "markdown",
   "metadata": {},
   "source": [
    "Para acceder a los elementos de un array utilizaremos el mismo operador [], pero especificaremos la posición o índice del elemento al cual queremos acceder. Debemos tener en cuenta que en Python, el primer elemento de una lista tiene índice 0."
   ]
  },
  {
   "cell_type": "code",
   "execution_count": 111,
   "metadata": {},
   "outputs": [
    {
     "name": "stdout",
     "output_type": "stream",
     "text": [
      "Lunes\n",
      "Sábado\n"
     ]
    }
   ],
   "source": [
    "# Primer día de la semana\n",
    "print(dias[0])\n",
    "\n",
    "# Penúltimo día de la semana \n",
    "print(dias[-2])"
   ]
  },
  {
   "cell_type": "markdown",
   "metadata": {},
   "source": [
    "Python nos permite utilizar un índice negativo que contaría des del final del array hacía delante."
   ]
  },
  {
   "cell_type": "markdown",
   "metadata": {},
   "source": [
    "### Ejercicio 3\n",
    "\n",
    "La técnica de _list comprehension_ es la forma especial que tiene Python de iterar una lista y obtener otra lista en una única línea de código. Por ejemplo, si queremos crear una lista con el cuadrado de los 10 primeros números naturales, en Python lo haríamos de la siguiente forma:"
   ]
  },
  {
   "cell_type": "code",
   "execution_count": 3,
   "metadata": {},
   "outputs": [
    {
     "name": "stdout",
     "output_type": "stream",
     "text": [
      "[0, 1, 4, 9, 16, 25, 36, 49, 64, 81]\n"
     ]
    }
   ],
   "source": [
    "naturales = [0, 1, 2, 3, 4, 5, 6, 7, 8, 9]\n",
    "cuadrados = [x*x for x in naturales]\n",
    "print cuadrados"
   ]
  },
  {
   "cell_type": "markdown",
   "metadata": {},
   "source": [
    "Es una forma muy compacta de notación que nos ahorra escribir en un bucle desplegado."
   ]
  }
 ],
 "metadata": {
  "kernelspec": {
   "display_name": "Python 3",
   "language": "python",
   "name": "python3"
  },
  "language_info": {
   "codemirror_mode": {
    "name": "ipython",
    "version": 3
   },
   "file_extension": ".py",
   "mimetype": "text/x-python",
   "name": "python",
   "nbconvert_exporter": "python",
   "pygments_lexer": "ipython3",
   "version": "3.7.3"
  }
 },
 "nbformat": 4,
 "nbformat_minor": 1
}
